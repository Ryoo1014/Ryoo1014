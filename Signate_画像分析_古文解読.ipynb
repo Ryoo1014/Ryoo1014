{
  "nbformat": 4,
  "nbformat_minor": 0,
  "metadata": {
    "colab": {
      "provenance": [],
      "authorship_tag": "ABX9TyOlLi0pIwA7hpL2X/9sLsQ3",
      "include_colab_link": true
    },
    "kernelspec": {
      "name": "python3",
      "display_name": "Python 3"
    },
    "language_info": {
      "name": "python"
    }
  },
  "cells": [
    {
      "cell_type": "markdown",
      "metadata": {
        "id": "view-in-github",
        "colab_type": "text"
      },
      "source": [
        "<a href=\"https://colab.research.google.com/github/Ryoo1014/Ryoo1014/blob/main/Signate_%E7%94%BB%E5%83%8F%E5%88%86%E6%9E%90_%E5%8F%A4%E6%96%87%E8%A7%A3%E8%AA%AD.ipynb\" target=\"_parent\"><img src=\"https://colab.research.google.com/assets/colab-badge.svg\" alt=\"Open In Colab\"/></a>"
      ]
    },
    {
      "cell_type": "code",
      "execution_count": null,
      "metadata": {
        "id": "QZIyVlcTxNGV"
      },
      "outputs": [],
      "source": []
    }
  ]
}